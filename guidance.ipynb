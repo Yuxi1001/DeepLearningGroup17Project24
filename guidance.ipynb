{
 "cells": [
  {
   "cell_type": "markdown",
   "metadata": {},
   "source": [
    "In order to show a sample for our model, we try to train and test our model on Google Colab. The following steps show how we establish the environment on google colab. And it works for starting to train our EHRMamba model. Due to the limit of datasets and time, we just show several epochs on traning process. In the log folder, there are complete files for recording traning and testing process and results. "
   ]
  },
  {
   "cell_type": "code",
   "execution_count": null,
   "metadata": {
    "colab": {
     "base_uri": "https://localhost:8080/"
    },
    "id": "819NxQH1v1Vw",
    "outputId": "cc5d5da7-51a9-4982-aa03-ced0f9997d5a"
   },
   "outputs": [
    {
     "name": "stdout",
     "output_type": "stream",
     "text": [
      "Drive already mounted at /content/drive; to attempt to forcibly remount, call drive.mount(\"/content/drive\", force_remount=True).\n"
     ]
    }
   ],
   "source": [
    "######## load google drive  ###########\n",
    "from google.colab import drive\n",
    "drive.mount('/content/drive')\n"
   ]
  },
  {
   "cell_type": "code",
   "execution_count": 15,
   "metadata": {
    "colab": {
     "base_uri": "https://localhost:8080/"
    },
    "id": "Mx3DIVgmUuwd",
    "outputId": "16d0127c-7ea8-4f19-c0b8-85b3d12b2a86"
   },
   "outputs": [
    {
     "name": "stdout",
     "output_type": "stream",
     "text": [
      "Python 3.10.12\n"
     ]
    }
   ],
   "source": [
    "!python --version\n"
   ]
  },
  {
   "cell_type": "code",
   "execution_count": null,
   "metadata": {
    "colab": {
     "base_uri": "https://localhost:8080/"
    },
    "id": "3zwowA-fUyCH",
    "outputId": "16729724-e09d-4c0b-afcb-7f861d44c855"
   },
   "outputs": [
    {
     "name": "stdout",
     "output_type": "stream",
     "text": [
      "\r0% [Working]\r            \rGet:1 http://security.ubuntu.com/ubuntu jammy-security InRelease [129 kB]\n",
      "\r0% [Connecting to archive.ubuntu.com (185.125.190.82)] [1 InRelease 14.2 kB/129\r                                                                               \rGet:2 https://cloud.r-project.org/bin/linux/ubuntu jammy-cran40/ InRelease [3,626 B]\n",
      "\r0% [Waiting for headers] [1 InRelease 129 kB/129 kB 100%] [Connected to r2u.sta\r0% [Waiting for headers] [Connected to r2u.stat.illinois.edu (192.17.190.167)] \r                                                                               \rHit:3 https://developer.download.nvidia.com/compute/cuda/repos/ubuntu2204/x86_64  InRelease\n",
      "Hit:4 http://archive.ubuntu.com/ubuntu jammy InRelease\n",
      "Get:5 https://r2u.stat.illinois.edu/ubuntu jammy InRelease [6,555 B]\n",
      "Get:6 http://archive.ubuntu.com/ubuntu jammy-updates InRelease [128 kB]\n",
      "Hit:7 https://ppa.launchpadcontent.net/deadsnakes/ppa/ubuntu jammy InRelease\n",
      "Get:8 http://security.ubuntu.com/ubuntu jammy-security/restricted amd64 Packages [3,448 kB]\n",
      "Hit:9 https://ppa.launchpadcontent.net/graphics-drivers/ppa/ubuntu jammy InRelease\n",
      "Get:10 http://archive.ubuntu.com/ubuntu jammy-backports InRelease [127 kB]\n",
      "Hit:11 https://ppa.launchpadcontent.net/ubuntugis/ppa/ubuntu jammy InRelease\n",
      "Get:12 http://security.ubuntu.com/ubuntu jammy-security/main amd64 Packages [2,517 kB]\n",
      "Get:13 http://security.ubuntu.com/ubuntu jammy-security/universe amd64 Packages [1,226 kB]\n",
      "Get:14 https://r2u.stat.illinois.edu/ubuntu jammy/main all Packages [8,564 kB]\n",
      "Get:15 https://r2u.stat.illinois.edu/ubuntu jammy/main amd64 Packages [2,632 kB]\n",
      "Get:16 http://archive.ubuntu.com/ubuntu jammy-updates/universe amd64 Packages [1,517 kB]\n",
      "Get:17 http://archive.ubuntu.com/ubuntu jammy-updates/main amd64 Packages [2,830 kB]\n",
      "Get:18 http://archive.ubuntu.com/ubuntu jammy-updates/restricted amd64 Packages [3,614 kB]\n",
      "Get:19 http://archive.ubuntu.com/ubuntu jammy-backports/main amd64 Packages [81.4 kB]\n",
      "Get:20 http://archive.ubuntu.com/ubuntu jammy-backports/universe amd64 Packages [33.8 kB]\n",
      "Fetched 26.9 MB in 4s (7,159 kB/s)\n",
      "Reading package lists... Done\n",
      "W: Skipping acquire of configured file 'main/source/Sources' as repository 'https://r2u.stat.illinois.edu/ubuntu jammy InRelease' does not seem to provide it (sources.list entry misspelt?)\n",
      "Reading package lists... Done\n",
      "Building dependency tree... Done\n",
      "Reading state information... Done\n",
      "The following additional packages will be installed:\n",
      "  libpython3.9-minimal libpython3.9-stdlib mailcap mime-support\n",
      "  python3.9-minimal\n",
      "Suggested packages:\n",
      "  python3.9-venv binfmt-support\n",
      "The following NEW packages will be installed:\n",
      "  libpython3.9-minimal libpython3.9-stdlib mailcap mime-support python3.9\n",
      "  python3.9-minimal\n",
      "0 upgraded, 6 newly installed, 0 to remove and 50 not upgraded.\n",
      "Need to get 4,874 kB of archives.\n",
      "After this operation, 19.0 MB of additional disk space will be used.\n",
      "Get:1 http://archive.ubuntu.com/ubuntu jammy/main amd64 mailcap all 3.70+nmu1ubuntu1 [23.8 kB]\n",
      "Get:2 http://archive.ubuntu.com/ubuntu jammy/main amd64 mime-support all 3.66 [3,696 B]\n",
      "Get:3 https://ppa.launchpadcontent.net/deadsnakes/ppa/ubuntu jammy/main amd64 libpython3.9-minimal amd64 3.9.21-1+jammy1 [837 kB]\n",
      "Get:4 https://ppa.launchpadcontent.net/deadsnakes/ppa/ubuntu jammy/main amd64 python3.9-minimal amd64 3.9.21-1+jammy1 [2,075 kB]\n",
      "Get:5 https://ppa.launchpadcontent.net/deadsnakes/ppa/ubuntu jammy/main amd64 libpython3.9-stdlib amd64 3.9.21-1+jammy1 [1,841 kB]\n",
      "Get:6 https://ppa.launchpadcontent.net/deadsnakes/ppa/ubuntu jammy/main amd64 python3.9 amd64 3.9.21-1+jammy1 [93.0 kB]\n",
      "Fetched 4,874 kB in 1s (3,687 kB/s)\n",
      "debconf: unable to initialize frontend: Dialog\n",
      "debconf: (No usable dialog-like program is installed, so the dialog based frontend cannot be used. at /usr/share/perl5/Debconf/FrontEnd/Dialog.pm line 78, <> line 6.)\n",
      "debconf: falling back to frontend: Readline\n",
      "debconf: unable to initialize frontend: Readline\n",
      "debconf: (This frontend requires a controlling tty.)\n",
      "debconf: falling back to frontend: Teletype\n",
      "dpkg-preconfigure: unable to re-open stdin: \n",
      "Selecting previously unselected package libpython3.9-minimal:amd64.\n",
      "(Reading database ... 123634 files and directories currently installed.)\n",
      "Preparing to unpack .../0-libpython3.9-minimal_3.9.21-1+jammy1_amd64.deb ...\n",
      "Unpacking libpython3.9-minimal:amd64 (3.9.21-1+jammy1) ...\n",
      "Selecting previously unselected package python3.9-minimal.\n",
      "Preparing to unpack .../1-python3.9-minimal_3.9.21-1+jammy1_amd64.deb ...\n",
      "Unpacking python3.9-minimal (3.9.21-1+jammy1) ...\n",
      "Selecting previously unselected package mailcap.\n",
      "Preparing to unpack .../2-mailcap_3.70+nmu1ubuntu1_all.deb ...\n",
      "Unpacking mailcap (3.70+nmu1ubuntu1) ...\n",
      "Selecting previously unselected package mime-support.\n",
      "Preparing to unpack .../3-mime-support_3.66_all.deb ...\n",
      "Unpacking mime-support (3.66) ...\n",
      "Selecting previously unselected package libpython3.9-stdlib:amd64.\n",
      "Preparing to unpack .../4-libpython3.9-stdlib_3.9.21-1+jammy1_amd64.deb ...\n",
      "Unpacking libpython3.9-stdlib:amd64 (3.9.21-1+jammy1) ...\n",
      "Selecting previously unselected package python3.9.\n",
      "Preparing to unpack .../5-python3.9_3.9.21-1+jammy1_amd64.deb ...\n",
      "Unpacking python3.9 (3.9.21-1+jammy1) ...\n",
      "Setting up libpython3.9-minimal:amd64 (3.9.21-1+jammy1) ...\n",
      "Setting up python3.9-minimal (3.9.21-1+jammy1) ...\n",
      "Setting up mailcap (3.70+nmu1ubuntu1) ...\n",
      "Setting up mime-support (3.66) ...\n",
      "Setting up libpython3.9-stdlib:amd64 (3.9.21-1+jammy1) ...\n",
      "Setting up python3.9 (3.9.21-1+jammy1) ...\n",
      "Processing triggers for man-db (2.10.2-1) ...\n"
     ]
    }
   ],
   "source": [
    "######### install python environment ###########\n",
    "!sudo apt-get update\n",
    "!sudo apt-get install python3.9\n"
   ]
  },
  {
   "cell_type": "code",
   "execution_count": 11,
   "metadata": {
    "colab": {
     "base_uri": "https://localhost:8080/"
    },
    "id": "ug5cvBfOU6A5",
    "outputId": "c3631725-f9ec-4573-8211-5959e71ad740"
   },
   "outputs": [
    {
     "name": "stdout",
     "output_type": "stream",
     "text": [
      "Reading package lists... Done\n",
      "Building dependency tree... Done\n",
      "Reading state information... Done\n",
      "The following additional packages will be installed:\n",
      "  python3.9-lib2to3\n",
      "The following NEW packages will be installed:\n",
      "  python3.9-distutils python3.9-lib2to3\n",
      "0 upgraded, 2 newly installed, 0 to remove and 50 not upgraded.\n",
      "Need to get 319 kB of archives.\n",
      "After this operation, 1,234 kB of additional disk space will be used.\n",
      "Get:1 https://ppa.launchpadcontent.net/deadsnakes/ppa/ubuntu jammy/main amd64 python3.9-lib2to3 all 3.9.21-1+jammy1 [127 kB]\n",
      "Get:2 https://ppa.launchpadcontent.net/deadsnakes/ppa/ubuntu jammy/main amd64 python3.9-distutils all 3.9.21-1+jammy1 [193 kB]\n",
      "Fetched 319 kB in 1s (337 kB/s)\n",
      "debconf: unable to initialize frontend: Dialog\n",
      "debconf: (No usable dialog-like program is installed, so the dialog based frontend cannot be used. at /usr/share/perl5/Debconf/FrontEnd/Dialog.pm line 78, <> line 2.)\n",
      "debconf: falling back to frontend: Readline\n",
      "debconf: unable to initialize frontend: Readline\n",
      "debconf: (This frontend requires a controlling tty.)\n",
      "debconf: falling back to frontend: Teletype\n",
      "dpkg-preconfigure: unable to re-open stdin: \n",
      "Selecting previously unselected package python3.9-lib2to3.\n",
      "(Reading database ... 124298 files and directories currently installed.)\n",
      "Preparing to unpack .../python3.9-lib2to3_3.9.21-1+jammy1_all.deb ...\n",
      "Unpacking python3.9-lib2to3 (3.9.21-1+jammy1) ...\n",
      "Selecting previously unselected package python3.9-distutils.\n",
      "Preparing to unpack .../python3.9-distutils_3.9.21-1+jammy1_all.deb ...\n",
      "Unpacking python3.9-distutils (3.9.21-1+jammy1) ...\n",
      "Setting up python3.9-lib2to3 (3.9.21-1+jammy1) ...\n",
      "Setting up python3.9-distutils (3.9.21-1+jammy1) ...\n",
      "--2024-12-21 10:23:50--  https://bootstrap.pypa.io/get-pip.py\n",
      "Resolving bootstrap.pypa.io (bootstrap.pypa.io)... 151.101.0.175, 151.101.64.175, 151.101.128.175, ...\n",
      "Connecting to bootstrap.pypa.io (bootstrap.pypa.io)|151.101.0.175|:443... connected.\n",
      "HTTP request sent, awaiting response... 200 OK\n",
      "Length: 2275758 (2.2M) [text/x-python]\n",
      "Saving to: ‘get-pip.py’\n",
      "\n",
      "get-pip.py          100%[===================>]   2.17M  --.-KB/s    in 0.08s   \n",
      "\n",
      "2024-12-21 10:23:50 (27.5 MB/s) - ‘get-pip.py’ saved [2275758/2275758]\n",
      "\n",
      "Collecting pip\n",
      "  Downloading pip-24.3.1-py3-none-any.whl.metadata (3.7 kB)\n",
      "Collecting setuptools\n",
      "  Downloading setuptools-75.6.0-py3-none-any.whl.metadata (6.7 kB)\n",
      "Collecting wheel\n",
      "  Downloading wheel-0.45.1-py3-none-any.whl.metadata (2.3 kB)\n",
      "Downloading pip-24.3.1-py3-none-any.whl (1.8 MB)\n",
      "\u001b[2K   \u001b[90m━━━━━━━━━━━━━━━━━━━━━━━━━━━━━━━━━━━━━━━━\u001b[0m \u001b[32m1.8/1.8 MB\u001b[0m \u001b[31m8.1 MB/s\u001b[0m eta \u001b[36m0:00:00\u001b[0m\n",
      "\u001b[?25hDownloading setuptools-75.6.0-py3-none-any.whl (1.2 MB)\n",
      "\u001b[2K   \u001b[90m━━━━━━━━━━━━━━━━━━━━━━━━━━━━━━━━━━━━━━━━\u001b[0m \u001b[32m1.2/1.2 MB\u001b[0m \u001b[31m12.4 MB/s\u001b[0m eta \u001b[36m0:00:00\u001b[0m\n",
      "\u001b[?25hDownloading wheel-0.45.1-py3-none-any.whl (72 kB)\n",
      "Installing collected packages: wheel, setuptools, pip\n",
      "Successfully installed pip-24.3.1 setuptools-75.6.0 wheel-0.45.1\n"
     ]
    }
   ],
   "source": [
    "!sudo apt-get install python3.9-distutils\n",
    "!wget https://bootstrap.pypa.io/get-pip.py\n",
    "!python3.9 get-pip.py\n"
   ]
  },
  {
   "cell_type": "code",
   "execution_count": 10,
   "metadata": {
    "colab": {
     "base_uri": "https://localhost:8080/"
    },
    "id": "s--5ic57U-ib",
    "outputId": "098ed8d3-af37-4b56-e700-1ece1c046628"
   },
   "outputs": [
    {
     "name": "stdout",
     "output_type": "stream",
     "text": [
      "pip 24.3.1 from /usr/local/lib/python3.9/dist-packages/pip (python 3.9)\n"
     ]
    }
   ],
   "source": [
    "!python3.9 -m pip --version\n"
   ]
  },
  {
   "cell_type": "code",
   "execution_count": null,
   "metadata": {
    "id": "WNozWrSIWOZZ"
   },
   "outputs": [],
   "source": [
    "########## activate venv (installed package) ########\n",
    "# Here we already installed required package, and also upload them\n",
    "!source /content/drive/MyDrive/Structured_SSM16/venv/bin/activate"
   ]
  },
  {
   "cell_type": "code",
   "execution_count": null,
   "metadata": {
    "id": "l95eu8BwlwxC"
   },
   "outputs": [],
   "source": [
    "###### give access to venv ###########\n",
    "!chmod +x /content/drive/MyDrive/Structured_SSM16/venv/*\n"
   ]
  },
  {
   "cell_type": "code",
   "execution_count": null,
   "metadata": {
    "id": "171HGFV2l8tn"
   },
   "outputs": [],
   "source": [
    "######### give access to python #######\n",
    "!chmod +x /content/drive/MyDrive/Structured_SSM16/venv/bin/python3.9\n"
   ]
  },
  {
   "cell_type": "code",
   "execution_count": null,
   "metadata": {
    "colab": {
     "base_uri": "https://localhost:8080/"
    },
    "id": "CnUytXxtl-xv",
    "outputId": "236fcbca-0dda-4676-e075-26fbac2bf826"
   },
   "outputs": [
    {
     "name": "stdout",
     "output_type": "stream",
     "text": [
      "Preprocessed files not found. Preprocessing the dataset...\n",
      "Loading dataset\n",
      "Preprocessing dataset\n",
      "100% 9590/9590 [00:21<00:00, 439.35it/s]\n",
      "shape of active data = torch.Size([9590, 37, 215])\n",
      "shape of time data = torch.Size([9590, 215])\n",
      "shape of static data = torch.Size([9590, 8])\n",
      "Preprocessing dataset\n",
      "100% 9590/9590 [00:24<00:00, 389.14it/s]\n",
      "shape of active data = torch.Size([9590, 37, 215])\n",
      "shape of time data = torch.Size([9590, 215])\n",
      "shape of static data = torch.Size([9590, 8])\n",
      "Preprocessing dataset\n",
      "100% 1199/1199 [00:02<00:00, 528.92it/s]\n",
      "shape of active data = torch.Size([1199, 37, 215])\n",
      "shape of time data = torch.Size([1199, 215])\n",
      "shape of static data = torch.Size([1199, 8])\n",
      "Preprocessing dataset\n",
      "100% 1199/1199 [00:02<00:00, 495.79it/s]\n",
      "shape of active data = torch.Size([1199, 37, 215])\n",
      "shape of time data = torch.Size([1199, 215])\n",
      "shape of static data = torch.Size([1199, 8])\n",
      "shape of active data = torch.Size([1342, 37, 215])\n",
      "shape of time data = torch.Size([1342, 215])\n",
      "shape of static data = torch.Size([1342, 8])\n",
      "shape of labels = torch.Size([1342])\n",
      "shape of active data = torch.Size([8248, 37, 215])\n",
      "shape of time data = torch.Size([8248, 215])\n",
      "shape of static data = torch.Size([8248, 8])\n",
      "shape of labels = torch.Size([8248])\n",
      "Saving datasets to ./processed_datasets\n",
      "/content/drive/MyDrive/Structured_SSM16/venv/lib/python3.9/site-packages/torch/utils/data/dataloader.py:558: UserWarning: This DataLoader will create 16 worker processes in total. Our suggested max number of worker in current system is 2, which is smaller than what this DataLoader is going to create. Please be aware that excessive worker creation might get DataLoader running slow or even freeze, lower the worker number to avoid potential slowness/freeze if necessary.\n",
      "  warnings.warn(_create_warning_msg(\n",
      "The fast path is not available because on of `(selective_state_update, selective_scan_fn, causal_conv1d_fn, causal_conv1d_update, mamba_inner_fn)` is None. Falling back to the naive implementation. To install follow https://github.com/state-spaces/mamba/#installation and https://github.com/Dao-AILab/causal-conv1d\n",
      "# of trainable parameters: 2800298\n",
      "  0% 0/252 [00:00<?, ?it/s]embeds size: torch.Size([32, 120, 37])\n",
      "labels size: torch.Size([32])\n",
      "output size in Mamba: torch.Size([32, 120, 30522])\n",
      "  0% 1/252 [13:05<54:47:53, 785.95s/it]embeds size: torch.Size([32, 152, 37])\n",
      "labels size: torch.Size([32])\n",
      "output size in Mamba: torch.Size([32, 152, 30522])\n",
      "  1% 2/252 [32:42<70:31:34, 1015.58s/it]embeds size: torch.Size([32, 159, 37])\n",
      "labels size: torch.Size([32])\n",
      "output size in Mamba: torch.Size([32, 159, 30522])\n",
      "  1% 3/252 [52:34<75:50:07, 1096.42s/it]embeds size: torch.Size([32, 144, 37])\n",
      "labels size: torch.Size([32])\n",
      "output size in Mamba: torch.Size([32, 144, 30522])\n",
      "  2% 4/252 [1:10:47<75:24:53, 1094.73s/it]embeds size: torch.Size([32, 174, 37])\n",
      "labels size: torch.Size([32])\n",
      "output size in Mamba: torch.Size([32, 174, 30522])\n",
      "  2% 5/252 [1:37:25<87:35:06, 1276.55s/it]embeds size: torch.Size([32, 156, 37])\n",
      "labels size: torch.Size([32])\n",
      "output size in Mamba: torch.Size([32, 156, 30522])\n",
      "  2% 6/252 [1:58:43<87:15:17, 1276.90s/it]embeds size: torch.Size([32, 168, 37])\n",
      "labels size: torch.Size([32])\n",
      "output size in Mamba: torch.Size([32, 168, 30522])\n",
      "  3% 7/252 [2:23:31<91:36:06, 1345.98s/it]embeds size: torch.Size([32, 156, 37])\n",
      "labels size: torch.Size([32])\n",
      "output size in Mamba: torch.Size([32, 156, 30522])\n",
      "  3% 8/252 [2:44:52<89:49:50, 1325.37s/it]embeds size: torch.Size([32, 143, 37])\n",
      "labels size: torch.Size([32])\n",
      "output size in Mamba: torch.Size([32, 143, 30522])\n",
      "  4% 9/252 [3:02:53<84:18:04, 1248.91s/it]embeds size: torch.Size([32, 170, 37])\n",
      "labels size: torch.Size([32])\n",
      "output size in Mamba: torch.Size([32, 170, 30522])\n",
      "  4% 10/252 [3:27:34<88:46:18, 1320.57s/it]embeds size: torch.Size([32, 151, 37])\n",
      "labels size: torch.Size([32])\n",
      "output size in Mamba: torch.Size([32, 151, 30522])\n",
      "  4% 11/252 [3:47:42<86:05:25, 1286.00s/it]embeds size: torch.Size([32, 146, 37])\n",
      "labels size: torch.Size([32])\n",
      "output size in Mamba: torch.Size([32, 146, 30522])\n",
      "  5% 12/252 [4:06:36<82:39:44, 1239.94s/it]embeds size: torch.Size([32, 168, 37])\n",
      "labels size: torch.Size([32])\n",
      "output size in Mamba: torch.Size([32, 168, 30522])\n",
      "  5% 13/252 [4:31:47<87:46:03, 1322.02s/it]embeds size: torch.Size([32, 115, 37])\n",
      "labels size: torch.Size([32])\n",
      "output size in Mamba: torch.Size([32, 115, 30522])\n",
      "  6% 14/252 [4:43:56<75:33:25, 1142.88s/it]embeds size: torch.Size([32, 133, 37])\n",
      "labels size: torch.Size([32])\n",
      "output size in Mamba: torch.Size([32, 133, 30522])\n",
      "  6% 15/252 [4:59:15<70:47:30, 1075.32s/it]embeds size: torch.Size([32, 111, 37])\n",
      "labels size: torch.Size([32])\n",
      "output size in Mamba: torch.Size([32, 111, 30522])\n"
     ]
    }
   ],
   "source": [
    "########### start to train and test model ###########\n",
    "! /content/drive/MyDrive/Structured_SSM16/venv/bin/python3.9 /content/drive/MyDrive/Structured_SSM16/cli_revised.py \\\n",
    "    --output_path=/content/drive/MyDrive/Structured_SSM16/result \\\n",
    "    --base_path=/content/drive/MyDrive/Structured_SSM16/P12data \\\n",
    "    --model_type=EHRMamba \\\n",
    "    --epochs=10 \\\n",
    "    --batch_size=32 \\\n",
    "    --lr=0.01 \\\n",
    "    --embedding_size=37 \\\n",
    "    --time_embeddings_size=16 \\\n",
    "    --visit_order_size=3 \\\n",
    "    --type_vocab_size=9 \\\n",
    "    --max_num_visits=256 \\\n",
    "    --max_seq_length=2048 \\\n",
    "    --state_size=32 \\\n",
    "    --num_hidden_layers=16 \\\n",
    "    --expand=4 \\\n",
    "    --conv_kernel=4 \\\n",
    "    --learning_rate=0.01 \\\n",
    "    --dropout_prob=0.3 \\\n",
    "    --padding_idx=0 \\\n",
    "    --cls_idx=5\n"
   ]
  },
  {
   "cell_type": "markdown",
   "metadata": {},
   "source": []
  }
 ],
 "metadata": {
  "colab": {
   "provenance": []
  },
  "kernelspec": {
   "display_name": "Python 3",
   "name": "python3"
  },
  "language_info": {
   "name": "python"
  }
 },
 "nbformat": 4,
 "nbformat_minor": 0
}
